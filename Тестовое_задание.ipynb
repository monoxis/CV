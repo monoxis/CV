{
  "nbformat": 4,
  "nbformat_minor": 0,
  "metadata": {
    "colab": {
      "provenance": [],
      "collapsed_sections": [],
      "authorship_tag": "ABX9TyNT5kWv2g4F2RpN1sTlPhWJ",
      "include_colab_link": true
    },
    "kernelspec": {
      "name": "python3",
      "display_name": "Python 3"
    },
    "language_info": {
      "name": "python"
    }
  },
  "cells": [
    {
      "cell_type": "markdown",
      "metadata": {
        "id": "view-in-github",
        "colab_type": "text"
      },
      "source": [
        "<a href=\"https://colab.research.google.com/github/monoxis/CV/blob/main/%D0%A2%D0%B5%D1%81%D1%82%D0%BE%D0%B2%D0%BE%D0%B5_%D0%B7%D0%B0%D0%B4%D0%B0%D0%BD%D0%B8%D0%B5.ipynb\" target=\"_parent\"><img src=\"https://colab.research.google.com/assets/colab-badge.svg\" alt=\"Open In Colab\"/></a>"
      ]
    },
    {
      "cell_type": "code",
      "source": [
        "# Доброго времени суток, мое решение тестового задания Переводчик Морзе\n",
        "\n",
        "\n",
        "import random\n",
        "\n",
        "def start ():\n",
        "  \"\"\"Приветствие, c проверкой ввода имени\"\"\"\n",
        "  print(\"Добро пожаловать в игру!\")\n",
        "  login_ = input(\"Введите имя: \" )\n",
        "  if len(login_) > 1:\n",
        "      print (f\"Привет, {login_.upper()}, игра начинается!\")\n",
        "  else:\n",
        "      print(f\"{login_.upper()} Вы не ввели свое имя!\")\n",
        "      \n",
        "start ()\n",
        "print(\"------------------\\nСегодня мы потренируемся расшифровывать морзянку.\\n------------------\")\n",
        "print(\"Я зашифровал 5 слов на английском языке\\nУ тебя есть 5 попыток чтобы их разгадать\\n------------------\")\n",
        "input(\"Нажмите Enter и начнем: \")\n",
        "\n",
        "\n",
        "\n",
        "word = [\"best\", \"sun\", \"summer\", \"love\", \"music\"]\n",
        "new_word = word\n",
        "answers = []\n",
        "\n",
        "\n",
        "\n",
        "effort = 0\n",
        "while effort >= 0:\n",
        "    effort +=1\n",
        "    if effort == 6:\n",
        "      finish = input(\"------------------\\nВведите stop и узнайте результат:\\n------------------\\n\")\n",
        "      if finish == \"stop\":\n",
        "        break\n",
        "      else:\n",
        "        continue\n",
        "    if effort == 12:\n",
        "      finish = input(\"------------------\\nВведите stop и узнайте результат:\\n------------------\\n\")\n",
        "      if finish == \"stop\":\n",
        "        break\n",
        "      else:\n",
        "        continue\n",
        "#Не смог ни чего лучшее придумать как сделать остановку STOP, реализовал ее через счетчик количества слов в списке word! Думаю в будущем придумаю что то более изящное)        \n",
        "    trancelate_morse_code = {\n",
        "        \"0\": \"-----\",\n",
        "        \"1\": \".----\",\n",
        "        \"2\": \"..---\",\n",
        "        \"3\": \"...--\",\n",
        "        \"4\": \"....-\",\n",
        "        \"5\": \".....\",\n",
        "        \"6\": \"-....\",\n",
        "        \"7\": \"--...\",\n",
        "        \"8\": \"---..\",\n",
        "        \"9\": \"----.\",\n",
        "        \"a\": \".-\",\n",
        "        \"b\": \"-...\",\n",
        "        \"c\": \"-.-.\",\n",
        "        \"d\": \"-..\",\n",
        "        \"e\": \".\",\n",
        "        \"f\": \"..-.\",\n",
        "        \"g\": \"--.\",\n",
        "        \"h\": \"....\",\n",
        "        \"i\": \"..\",\n",
        "        \"j\": \".---\",\n",
        "        \"k\": \"-.-\",\n",
        "        \"l\": \".-..\",\n",
        "        \"m\": \"--\",\n",
        "        \"n\": \"-.\",\n",
        "        \"o\": \"---\",\n",
        "        \"p\": \".--.\",\n",
        "        \"q\": \"--.-\",\n",
        "        \"r\": \".-.\",\n",
        "        \"s\": \"...\",\n",
        "        \"t\": \"-\",\n",
        "        \"u\": \"..-\",\n",
        "        \"v\": \"...-\",\n",
        "        \"w\": \".--\",\n",
        "        \"x\": \"-..-\",\n",
        "        \"y\": \"-.--\",\n",
        "        \"z\": \"--..\",\n",
        "        \".\": \".-.-.-\",\n",
        "        \",\": \"--..--\",\n",
        "        \"?\": \"..--..\",\n",
        "        \"!\": \"-.-.--\",\n",
        "        \"-\": \"-....-\",\n",
        "        \"/\": \"-..-.\",\n",
        "        \"@\": \".--.-.\",\n",
        "        \"(\": \"-.--.\",\n",
        "        \")\": \"-.--.-\"\n",
        "    }\n",
        "\n",
        "    def get_word():\n",
        "      \"\"\"Рандомное слово\"\"\"\n",
        "\n",
        "      res = random.randint(0,4)\n",
        "      return new_word[res]\n",
        "    res_ = get_word()\n",
        "\n",
        "\n",
        "\n",
        "    def morse_encode(word):\n",
        "        \"\"\"Переводчик в Морзе\"\"\"\n",
        "\n",
        "        print(f\"Слово {effort} -\")\n",
        "        for words in word:\n",
        "            x = ''\n",
        "            for i in words:\n",
        "                x += trancelate_morse_code [i]\n",
        "            print(x, end=\" \")\n",
        "        return\n",
        "\n",
        "\n",
        "    morse_encode(res_)\n",
        "#я не смог реализовать вывод зашифровоного слова и ввод ответа в одну строку, надеюсь это не критично\n",
        "    def answer ():\n",
        "        \"\"\"Ответы и счетчик правильных и неправильных ответов\"\"\"\n",
        "\n",
        "        text_ = input (\"Введите ответ: \")\n",
        "        new_text_ = text_.lower()\n",
        "        if new_text_== res_:\n",
        "            answers.append(bool(True))\n",
        "            print(f\"Все верно, {text_}\")\n",
        "        else:\n",
        "            answers.append(bool(False))\n",
        "            print(f\"Неверно, {res_}\")\n",
        "        return\n",
        "\n",
        "\n",
        "    answer()\n",
        "\n",
        "    \n",
        "\n",
        "def print_statistics():\n",
        "    \"\"\"Статистика ответов\"\"\"\n",
        "    \n",
        "    acc = answers.count(True)\n",
        "    fal = answers.count(False)\n",
        "    all_ = len(answers)\n",
        "    print (f\"Всего задачек: {all_} Отвечено верно: {acc} Отвечено неверно: {fal}\")\n",
        "\n",
        "\n",
        "print_statistics()\n",
        "\n",
        "\n",
        "\n",
        "\n"
      ],
      "metadata": {
        "id": "lLB6lg7rp8Ua"
      },
      "execution_count": null,
      "outputs": []
    },
    {
      "cell_type": "code",
      "source": [],
      "metadata": {
        "id": "CB0Eq7PMYdmz"
      },
      "execution_count": null,
      "outputs": []
    },
    {
      "cell_type": "code",
      "source": [],
      "metadata": {
        "id": "OihFn3xyYdyh"
      },
      "execution_count": null,
      "outputs": []
    },
    {
      "cell_type": "code",
      "execution_count": null,
      "metadata": {
        "id": "oFB-js2Ow_Uf"
      },
      "outputs": [],
      "source": [
        "numbers = input()\n",
        "sum = 0\n",
        "for i in numbers:\n",
        "  sum = int(sum) + int(i)\n",
        "print (sum)\n"
      ]
    },
    {
      "cell_type": "code",
      "source": [
        "word = input()\n",
        "replace = 0\n",
        "for replace in word:\n",
        "  replace = int(replace) + int(word)\n",
        "print (replace)"
      ],
      "metadata": {
        "colab": {
          "base_uri": "https://localhost:8080/"
        },
        "id": "b6M4gZraDZjs",
        "outputId": "9355ad72-9b3f-442d-b495-f22395cda1aa"
      },
      "execution_count": null,
      "outputs": [
        {
          "output_type": "stream",
          "name": "stdout",
          "text": [
            "111\n",
            "112\n"
          ]
        }
      ]
    },
    {
      "cell_type": "code",
      "source": [
        "numbers = input()\n",
        "numbers = numbers.split(\" \")\n",
        "total = 0\n",
        "for number in numbers:\n",
        "    total += int(number)\n",
        "print(total)"
      ],
      "metadata": {
        "colab": {
          "base_uri": "https://localhost:8080/"
        },
        "id": "M1YPoJKUnpIK",
        "outputId": "fb09a38a-69e7-4729-82c3-576e8afa669f"
      },
      "execution_count": null,
      "outputs": [
        {
          "output_type": "stream",
          "name": "stdout",
          "text": [
            "1 2 3 4\n",
            "10\n"
          ]
        }
      ]
    }
  ]
}